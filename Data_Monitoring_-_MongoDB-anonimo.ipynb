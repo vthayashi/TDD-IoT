{
 "cells": [
  {
   "cell_type": "markdown",
   "metadata": {
    "id": "roDAAPR6zGuL"
   },
   "source": [
    "https://pypi.org/project/paho-mqtt/"
   ]
  },
  {
   "cell_type": "code",
   "execution_count": 1,
   "metadata": {
    "colab": {
     "base_uri": "https://localhost:8080/"
    },
    "id": "YL3jEAUVzfLi",
    "outputId": "94ccbc7c-3397-47d7-95c7-65631ee910e4"
   },
   "outputs": [
    {
     "name": "stdout",
     "output_type": "stream",
     "text": [
      "Requirement already satisfied: paho-mqtt in c:\\programdata\\anaconda3\\lib\\site-packages (1.5.1)\n"
     ]
    }
   ],
   "source": [
    "!pip install paho-mqtt"
   ]
  },
  {
   "cell_type": "code",
   "execution_count": 2,
   "metadata": {
    "colab": {
     "base_uri": "https://localhost:8080/",
     "height": 547
    },
    "id": "rYr7dTTIyOIB",
    "outputId": "62a19818-7f20-45da-a59b-20c8290da9ad"
   },
   "outputs": [
    {
     "name": "stdout",
     "output_type": "stream",
     "text": [
      "Connected with result code 0\n",
      "{'time': 1626624191, 'fs_usedBytes': 340858, 'millis': 629808776, 'max_loop_wdt_cnt': 992, 'MQTT_ID': 'RM1/a85cb5', 'FreeHeap': 37768, 'minFreeHeap': 32176, 'wifi_rssi': -73}\n",
      "{'time': 1626624191, 'fs_usedBytes': 384783, 'millis': 348124472, 'max_loop_wdt_cnt': 351, 'MQTT_ID': 'R4x2/e46af6', 'FreeHeap': 39880, 'minFreeHeap': 37800, 'wifi_rssi': -78}\n",
      "{'time': 1626624191, 'fs_usedBytes': 278359, 'millis': 263267476, 'max_loop_wdt_cnt': 307, 'MQTT_ID': 'WifiModem/d666c9', 'FreeHeap': 36304, 'minFreeHeap': 33144, 'wifi_rssi': -19}\n",
      "{'time': 1626624191, 'fs_usedBytes': 346631, 'millis': 348143996, 'max_loop_wdt_cnt': 345, 'MQTT_ID': 'R4x2o/283c37', 'FreeHeap': 35736, 'minFreeHeap': 33880, 'wifi_rssi': -58}\n",
      "{'time': 1626624191, 'fs_usedBytes': 248992, 'millis': 683293561, 'max_loop_wdt_cnt': 415, 'MQTT_ID': 'RM1t10o/6fa252', 'FreeHeap': 36216, 'minFreeHeap': 32848, 'wifi_rssi': -25}\n",
      "{'time': 1626624191, 'fs_usedBytes': 589599, 'millis': 260641936, 'max_loop_wdt_cnt': 300, 'MQTT_ID': 'ArCond2/735917', 'FreeHeap': 34928, 'minFreeHeap': 32168, 'wifi_rssi': -59}\n",
      "{'time': 1626624191, 'fs_usedBytes': 306471, 'millis': 348104197, 'max_loop_wdt_cnt': 233, 'MQTT_ID': 'R4x2o/284a47', 'FreeHeap': 37112, 'minFreeHeap': 32720, 'wifi_rssi': -47}\n",
      "{'time': 1626624191, 'fs_usedBytes': 321531, 'millis': 370298648, 'max_loop_wdt_cnt': 1202, 'MQTT_ID': 'RM/35a006', 'FreeHeap': 39656, 'minFreeHeap': 32592, 'wifi_rssi': -70}\n",
      "{'time': 1626624191, 'fs_usedBytes': 335587, 'millis': 260644453, 'max_loop_wdt_cnt': 239, 'MQTT_ID': 'R4x4ir5/a8650c', 'FreeHeap': 36840, 'minFreeHeap': 34336, 'wifi_rssi': -70}\n",
      "{'time': 1626624191, 'fs_usedBytes': 292164, 'millis': 684960254, 'max_loop_wdt_cnt': 370, 'MQTT_ID': 'RM/7af0e2', 'FreeHeap': 39480, 'minFreeHeap': 36160, 'wifi_rssi': -51}\n",
      "{'time': 1626624191, 'fs_usedBytes': 420927, 'millis': 670424562, 'max_loop_wdt_cnt': 326, 'MQTT_ID': 'TV4x2/14bb3e', 'FreeHeap': 39000, 'minFreeHeap': 33520, 'wifi_rssi': -32}\n",
      "{'time': 1626624191, 'fs_usedBytes': 300196, 'millis': 664829671, 'max_loop_wdt_cnt': 438, 'MQTT_ID': 'RM/3948bf', 'FreeHeap': 39336, 'minFreeHeap': 35608, 'wifi_rssi': -74}\n",
      "{'time': 1626624191, 'fs_usedBytes': 527351, 'millis': 349115840, 'max_loop_wdt_cnt': 458, 'MQTT_ID': 'RM8/a7d186', 'FreeHeap': 36096, 'minFreeHeap': 31104, 'wifi_rssi': -77}\n"
     ]
    },
    {
     "ename": "KeyboardInterrupt",
     "evalue": "",
     "output_type": "error",
     "traceback": [
      "\u001b[1;31m---------------------------------------------------------------------------\u001b[0m",
      "\u001b[1;31mKeyboardInterrupt\u001b[0m                         Traceback (most recent call last)",
      "\u001b[1;32m<ipython-input-2-cbe1c336da6a>\u001b[0m in \u001b[0;36m<module>\u001b[1;34m\u001b[0m\n\u001b[0;32m     39\u001b[0m \u001b[1;31m# Other loop*() functions are available that give a threaded interface and a\u001b[0m\u001b[1;33m\u001b[0m\u001b[1;33m\u001b[0m\u001b[1;33m\u001b[0m\u001b[0m\n\u001b[0;32m     40\u001b[0m \u001b[1;31m# manual interface.\u001b[0m\u001b[1;33m\u001b[0m\u001b[1;33m\u001b[0m\u001b[1;33m\u001b[0m\u001b[0m\n\u001b[1;32m---> 41\u001b[1;33m \u001b[0mclient\u001b[0m\u001b[1;33m.\u001b[0m\u001b[0mloop_forever\u001b[0m\u001b[1;33m(\u001b[0m\u001b[1;33m)\u001b[0m\u001b[1;33m\u001b[0m\u001b[1;33m\u001b[0m\u001b[0m\n\u001b[0m",
      "\u001b[1;32mC:\\ProgramData\\Anaconda3\\lib\\site-packages\\paho\\mqtt\\client.py\u001b[0m in \u001b[0;36mloop_forever\u001b[1;34m(self, timeout, max_packets, retry_first_connection)\u001b[0m\n\u001b[0;32m   1777\u001b[0m             \u001b[0mrc\u001b[0m \u001b[1;33m=\u001b[0m \u001b[0mMQTT_ERR_SUCCESS\u001b[0m\u001b[1;33m\u001b[0m\u001b[1;33m\u001b[0m\u001b[0m\n\u001b[0;32m   1778\u001b[0m             \u001b[1;32mwhile\u001b[0m \u001b[0mrc\u001b[0m \u001b[1;33m==\u001b[0m \u001b[0mMQTT_ERR_SUCCESS\u001b[0m\u001b[1;33m:\u001b[0m\u001b[1;33m\u001b[0m\u001b[1;33m\u001b[0m\u001b[0m\n\u001b[1;32m-> 1779\u001b[1;33m                 \u001b[0mrc\u001b[0m \u001b[1;33m=\u001b[0m \u001b[0mself\u001b[0m\u001b[1;33m.\u001b[0m\u001b[0mloop\u001b[0m\u001b[1;33m(\u001b[0m\u001b[0mtimeout\u001b[0m\u001b[1;33m,\u001b[0m \u001b[0mmax_packets\u001b[0m\u001b[1;33m)\u001b[0m\u001b[1;33m\u001b[0m\u001b[1;33m\u001b[0m\u001b[0m\n\u001b[0m\u001b[0;32m   1780\u001b[0m                 \u001b[1;31m# We don't need to worry about locking here, because we've\u001b[0m\u001b[1;33m\u001b[0m\u001b[1;33m\u001b[0m\u001b[1;33m\u001b[0m\u001b[0m\n\u001b[0;32m   1781\u001b[0m                 \u001b[1;31m# either called loop_forever() when in single threaded mode, or\u001b[0m\u001b[1;33m\u001b[0m\u001b[1;33m\u001b[0m\u001b[1;33m\u001b[0m\u001b[0m\n",
      "\u001b[1;32mC:\\ProgramData\\Anaconda3\\lib\\site-packages\\paho\\mqtt\\client.py\u001b[0m in \u001b[0;36mloop\u001b[1;34m(self, timeout, max_packets)\u001b[0m\n\u001b[0;32m   1165\u001b[0m         \u001b[0mrlist\u001b[0m \u001b[1;33m=\u001b[0m \u001b[1;33m[\u001b[0m\u001b[0mself\u001b[0m\u001b[1;33m.\u001b[0m\u001b[0m_sock\u001b[0m\u001b[1;33m,\u001b[0m \u001b[0mself\u001b[0m\u001b[1;33m.\u001b[0m\u001b[0m_sockpairR\u001b[0m\u001b[1;33m]\u001b[0m\u001b[1;33m\u001b[0m\u001b[1;33m\u001b[0m\u001b[0m\n\u001b[0;32m   1166\u001b[0m         \u001b[1;32mtry\u001b[0m\u001b[1;33m:\u001b[0m\u001b[1;33m\u001b[0m\u001b[1;33m\u001b[0m\u001b[0m\n\u001b[1;32m-> 1167\u001b[1;33m             \u001b[0msocklist\u001b[0m \u001b[1;33m=\u001b[0m \u001b[0mselect\u001b[0m\u001b[1;33m.\u001b[0m\u001b[0mselect\u001b[0m\u001b[1;33m(\u001b[0m\u001b[0mrlist\u001b[0m\u001b[1;33m,\u001b[0m \u001b[0mwlist\u001b[0m\u001b[1;33m,\u001b[0m \u001b[1;33m[\u001b[0m\u001b[1;33m]\u001b[0m\u001b[1;33m,\u001b[0m \u001b[0mtimeout\u001b[0m\u001b[1;33m)\u001b[0m\u001b[1;33m\u001b[0m\u001b[1;33m\u001b[0m\u001b[0m\n\u001b[0m\u001b[0;32m   1168\u001b[0m         \u001b[1;32mexcept\u001b[0m \u001b[0mTypeError\u001b[0m\u001b[1;33m:\u001b[0m\u001b[1;33m\u001b[0m\u001b[1;33m\u001b[0m\u001b[0m\n\u001b[0;32m   1169\u001b[0m             \u001b[1;31m# Socket isn't correct type, in likelihood connection is lost\u001b[0m\u001b[1;33m\u001b[0m\u001b[1;33m\u001b[0m\u001b[1;33m\u001b[0m\u001b[0m\n",
      "\u001b[1;31mKeyboardInterrupt\u001b[0m: "
     ]
    }
   ],
   "source": [
    "import paho.mqtt.client as mqtt\n",
    "\n",
    "import paho.mqtt.publish as publish\n",
    "\n",
    "import json\n",
    "\n",
    "data = []\n",
    "\n",
    "chipIDlist = [\"RM1/204cfe\", \"RM1/a85cb5\", \"TV4x2/7af141\", \"TV4x2/14bb3e\", \"ArCond2/735917\", \"RM/ad5416\", \"RM/35a006\", \"RM/3948bf\", \"RM/7af0e2\",\"R4x2o/284a47\",\"R4x2o/283c37\",\"R4x2/e46af6\",\"R4x2/e3f450\",\"RM8/a7d186\",\"R4x4ir/208770\",\"R4x4o/359ae7\",\"R4x4ir5/a8650c\",\"R4x4ir5/d65fa5\",\"RM6/a98e1c\",\"WifiModem/d666c9\",\"RM1/d6637e\",\"RM1t10o/6fa252\"]\n",
    "\n",
    "# The callback for when the client receives a CONNACK response from the server.\n",
    "def on_connect(client, userdata, flags, rc):\n",
    "    print(\"Connected with result code \"+str(rc))\n",
    "\n",
    "    # Subscribing in on_connect() means that if we lose the connection and\n",
    "    # reconnect then subscriptions will be renewed.\n",
    "    for chipID in chipIDlist:\n",
    "      client.subscribe(chipID+\"/pub\")\n",
    "\n",
    "# The callback for when a PUBLISH message is received from the server.\n",
    "def on_message(client, userdata, msg):\n",
    "\n",
    "    txt = str(msg.payload)\n",
    "    #print(txt)\n",
    "\n",
    "    if (txt.find(\"&fields=monitor,MQTT_ID,time,millis,max_loop_wdt_cnt,FreeHeap,minFreeHeap,fs_usedBytes,wifi_rssi \") >= 0):\n",
    "      txt = txt[txt.find(\"{\"):len(txt)-1]\n",
    "      print(json.loads(txt))\n",
    "      data.append(json.loads(txt))\n",
    "\n",
    "client = mqtt.Client()\n",
    "client.on_connect = on_connect\n",
    "client.on_message = on_message\n",
    "\n",
    "client.connect(\"broker_address\", 1883, 60)\n",
    "\n",
    "# Blocking call that processes network traffic, dispatches callbacks and\n",
    "# handles reconnecting.\n",
    "# Other loop*() functions are available that give a threaded interface and a\n",
    "# manual interface.\n",
    "client.loop_forever()"
   ]
  },
  {
   "cell_type": "code",
   "execution_count": 3,
   "metadata": {
    "id": "ki3NUMoI2qi2"
   },
   "outputs": [],
   "source": [
    "import pandas as pd\n",
    "\n",
    "df = pd.json_normalize(data)"
   ]
  },
  {
   "cell_type": "code",
   "execution_count": 5,
   "metadata": {
    "colab": {
     "base_uri": "https://localhost:8080/",
     "height": 419
    },
    "id": "TLpZRaxC3EmB",
    "outputId": "b8fab62a-ba10-4ec5-e531-af79cb0058e7"
   },
   "outputs": [
    {
     "data": {
      "text/html": [
       "<div>\n",
       "<style scoped>\n",
       "    .dataframe tbody tr th:only-of-type {\n",
       "        vertical-align: middle;\n",
       "    }\n",
       "\n",
       "    .dataframe tbody tr th {\n",
       "        vertical-align: top;\n",
       "    }\n",
       "\n",
       "    .dataframe thead th {\n",
       "        text-align: right;\n",
       "    }\n",
       "</style>\n",
       "<table border=\"1\" class=\"dataframe\">\n",
       "  <thead>\n",
       "    <tr style=\"text-align: right;\">\n",
       "      <th></th>\n",
       "      <th>time</th>\n",
       "      <th>fs_usedBytes</th>\n",
       "      <th>millis</th>\n",
       "      <th>max_loop_wdt_cnt</th>\n",
       "      <th>MQTT_ID</th>\n",
       "      <th>FreeHeap</th>\n",
       "      <th>minFreeHeap</th>\n",
       "      <th>wifi_rssi</th>\n",
       "    </tr>\n",
       "  </thead>\n",
       "  <tbody>\n",
       "    <tr>\n",
       "      <th>0</th>\n",
       "      <td>1626550660</td>\n",
       "      <td>269323</td>\n",
       "      <td>189740579</td>\n",
       "      <td>237</td>\n",
       "      <td>RM/ad5416</td>\n",
       "      <td>39720</td>\n",
       "      <td>34760</td>\n",
       "      <td>-56</td>\n",
       "    </tr>\n",
       "    <tr>\n",
       "      <th>1</th>\n",
       "      <td>1626550660</td>\n",
       "      <td>420927</td>\n",
       "      <td>596895059</td>\n",
       "      <td>326</td>\n",
       "      <td>TV4x2/14bb3e</td>\n",
       "      <td>39000</td>\n",
       "      <td>33520</td>\n",
       "      <td>-34</td>\n",
       "    </tr>\n",
       "    <tr>\n",
       "      <th>2</th>\n",
       "      <td>1626550660</td>\n",
       "      <td>347635</td>\n",
       "      <td>556278896</td>\n",
       "      <td>992</td>\n",
       "      <td>RM1/a85cb5</td>\n",
       "      <td>39000</td>\n",
       "      <td>32176</td>\n",
       "      <td>-74</td>\n",
       "    </tr>\n",
       "    <tr>\n",
       "      <th>3</th>\n",
       "      <td>1626550670</td>\n",
       "      <td>420927</td>\n",
       "      <td>596905058</td>\n",
       "      <td>326</td>\n",
       "      <td>TV4x2/14bb3e</td>\n",
       "      <td>39000</td>\n",
       "      <td>33520</td>\n",
       "      <td>-34</td>\n",
       "    </tr>\n",
       "    <tr>\n",
       "      <th>4</th>\n",
       "      <td>1626550670</td>\n",
       "      <td>347635</td>\n",
       "      <td>556288905</td>\n",
       "      <td>992</td>\n",
       "      <td>RM1/a85cb5</td>\n",
       "      <td>39112</td>\n",
       "      <td>32176</td>\n",
       "      <td>-74</td>\n",
       "    </tr>\n",
       "    <tr>\n",
       "      <th>5</th>\n",
       "      <td>1626550671</td>\n",
       "      <td>320778</td>\n",
       "      <td>296779380</td>\n",
       "      <td>1202</td>\n",
       "      <td>RM/35a006</td>\n",
       "      <td>39544</td>\n",
       "      <td>32592</td>\n",
       "      <td>-69</td>\n",
       "    </tr>\n",
       "    <tr>\n",
       "      <th>6</th>\n",
       "      <td>1626550670</td>\n",
       "      <td>269323</td>\n",
       "      <td>189750592</td>\n",
       "      <td>237</td>\n",
       "      <td>RM/ad5416</td>\n",
       "      <td>39720</td>\n",
       "      <td>34760</td>\n",
       "      <td>-55</td>\n",
       "    </tr>\n",
       "    <tr>\n",
       "      <th>7</th>\n",
       "      <td>1626550670</td>\n",
       "      <td>299694</td>\n",
       "      <td>591310000</td>\n",
       "      <td>438</td>\n",
       "      <td>RM/3948bf</td>\n",
       "      <td>39448</td>\n",
       "      <td>35608</td>\n",
       "      <td>-70</td>\n",
       "    </tr>\n",
       "  </tbody>\n",
       "</table>\n",
       "</div>"
      ],
      "text/plain": [
       "         time  fs_usedBytes     millis  max_loop_wdt_cnt       MQTT_ID  \\\n",
       "0  1626550660        269323  189740579               237     RM/ad5416   \n",
       "1  1626550660        420927  596895059               326  TV4x2/14bb3e   \n",
       "2  1626550660        347635  556278896               992    RM1/a85cb5   \n",
       "3  1626550670        420927  596905058               326  TV4x2/14bb3e   \n",
       "4  1626550670        347635  556288905               992    RM1/a85cb5   \n",
       "5  1626550671        320778  296779380              1202     RM/35a006   \n",
       "6  1626550670        269323  189750592               237     RM/ad5416   \n",
       "7  1626550670        299694  591310000               438     RM/3948bf   \n",
       "\n",
       "   FreeHeap  minFreeHeap  wifi_rssi  \n",
       "0     39720        34760        -56  \n",
       "1     39000        33520        -34  \n",
       "2     39000        32176        -74  \n",
       "3     39000        33520        -34  \n",
       "4     39112        32176        -74  \n",
       "5     39544        32592        -69  \n",
       "6     39720        34760        -55  \n",
       "7     39448        35608        -70  "
      ]
     },
     "execution_count": 5,
     "metadata": {},
     "output_type": "execute_result"
    }
   ],
   "source": [
    "df"
   ]
  },
  {
   "cell_type": "code",
   "execution_count": null,
   "metadata": {},
   "outputs": [],
   "source": []
  }
 ],
 "metadata": {
  "colab": {
   "collapsed_sections": [],
   "name": "Smart Home Testbed ESP8266 - Data Collection (subscribe).ipynb",
   "provenance": []
  },
  "kernelspec": {
   "display_name": "Python 3",
   "language": "python",
   "name": "python3"
  },
  "language_info": {
   "codemirror_mode": {
    "name": "ipython",
    "version": 3
   },
   "file_extension": ".py",
   "mimetype": "text/x-python",
   "name": "python",
   "nbconvert_exporter": "python",
   "pygments_lexer": "ipython3",
   "version": "3.7.6"
  }
 },
 "nbformat": 4,
 "nbformat_minor": 1
}
